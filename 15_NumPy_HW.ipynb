{
 "cells": [
  {
   "cell_type": "code",
   "execution_count": 4,
   "metadata": {},
   "outputs": [],
   "source": [
    "import numpy as np"
   ]
  },
  {
   "cell_type": "markdown",
   "metadata": {},
   "source": [
    "#### 1. Создайте матрицу 3x3 с значениями от 2 до 10.\n",
    "\n",
    "```\n",
    "[[ 2 3 4]\n",
    "[ 5 6 7]\n",
    "[ 8 9 10]]\n",
    "```"
   ]
  },
  {
   "cell_type": "code",
   "execution_count": 13,
   "metadata": {},
   "outputs": [
    {
     "data": {
      "text/plain": [
       "matrix([[ 2,  3,  4],\n",
       "        [ 5,  6,  7],\n",
       "        [ 8,  9, 10]])"
      ]
     },
     "execution_count": 13,
     "metadata": {},
     "output_type": "execute_result"
    }
   ],
   "source": [
    "a = np.arange(2, 11).reshape(3, 3)\n",
    "m = np.matrix(a)\n",
    "m"
   ]
  },
  {
   "cell_type": "markdown",
   "metadata": {},
   "source": [
    "#### 2. Создайте вектор с 10 нулями. Замените 6-ой элемент числом 11.\n",
    "```\n",
    "[ 0. 0. 0. 0. 0. 0. 0. 0. 0. 0.]\n",
    "[ 0. 0. 0. 0. 0. 0. 11. 0. 0. 0.]\n",
    "```"
   ]
  },
  {
   "cell_type": "code",
   "execution_count": 56,
   "metadata": {},
   "outputs": [
    {
     "data": {
      "text/plain": [
       "matrix([[ 0.,  0.,  0.,  0.,  0.,  0., 11.,  0.,  0.,  0.]])"
      ]
     },
     "execution_count": 56,
     "metadata": {},
     "output_type": "execute_result"
    }
   ],
   "source": [
    "b = np.zeros((10))\n",
    "b[6]=11\n",
    "m = np.matrix(b)\n",
    "m\n"
   ]
  },
  {
   "cell_type": "markdown",
   "metadata": {},
   "source": [
    "#### 3. Создайте вектор с 10 элементами. Заполните четными числами начиная с 2.\n"
   ]
  },
  {
   "cell_type": "code",
   "execution_count": 57,
   "metadata": {},
   "outputs": [
    {
     "data": {
      "text/plain": [
       "matrix([[ 2,  4,  6,  8, 10, 12, 14, 16, 18, 20]])"
      ]
     },
     "execution_count": 57,
     "metadata": {},
     "output_type": "execute_result"
    }
   ],
   "source": [
    "c = np.arange(2,21,2)\n",
    "m = np.matrix(c)\n",
    "m"
   ]
  },
  {
   "cell_type": "markdown",
   "metadata": {},
   "source": [
    "#### 4. Оставьте в данном векторе только нули. (Используйте сравнение)\n",
    "```\n",
    "Данный вектор:\n",
    "[1, 0, 2, 3, 4, 0, 6, 7, 0]\n",
    "После:\n",
    "[0, 0, 0]\n",
    "```"
   ]
  },
  {
   "cell_type": "code",
   "execution_count": 69,
   "metadata": {},
   "outputs": [
    {
     "data": {
      "text/plain": [
       "[0, 0, 0]"
      ]
     },
     "execution_count": 69,
     "metadata": {},
     "output_type": "execute_result"
    }
   ],
   "source": [
    "m = np.array([1, 0, 2, 3, 4, 0, 6, 7, 0])\n",
    "a = [x for x in m if x == 0]\n",
    "a"
   ]
  },
  {
   "cell_type": "markdown",
   "metadata": {},
   "source": [
    "#### 5. Создайте матрицу без прямого ввода вручную всей матрицы.\n",
    "\n",
    "```\n",
    "[[1. 1. 1. 1. 1.]\n",
    " [1. 0. 0. 0. 1.]\n",
    " [1. 0. 9. 0. 1.]\n",
    " [1. 0. 0. 0. 1.]\n",
    " [1. 1. 1. 1. 1.]]\n",
    " ```"
   ]
  },
  {
   "cell_type": "code",
   "execution_count": 79,
   "metadata": {},
   "outputs": [
    {
     "data": {
      "text/plain": [
       "matrix([[1., 1., 1., 1., 1.],\n",
       "        [1., 0., 0., 0., 1.],\n",
       "        [1., 0., 9., 0., 1.],\n",
       "        [1., 0., 0., 0., 1.],\n",
       "        [1., 1., 1., 1., 1.]])"
      ]
     },
     "execution_count": 79,
     "metadata": {},
     "output_type": "execute_result"
    }
   ],
   "source": [
    "a = np.ones((5,5))\n",
    "a[1,1] = 0\n",
    "a[1,2] = 0\n",
    "a[1,3] = 0\n",
    "a[2,1] = 0\n",
    "a[2,2] = 9\n",
    "a[2,3] = 0\n",
    "a[3,1] = 0\n",
    "a[3,2] = 0\n",
    "a[3,3] = 0\n",
    "m = np.matrix(a)\n",
    "m"
   ]
  },
  {
   "cell_type": "markdown",
   "metadata": {},
   "source": [
    "#### 6. Создайте матрицу 10 на 10, заполнив случайными числами.\n",
    "\n"
   ]
  },
  {
   "cell_type": "code",
   "execution_count": 83,
   "metadata": {},
   "outputs": [
    {
     "data": {
      "text/plain": [
       "matrix([[4, 5, 5, 6, 1, 3, 5, 3, 3, 0],\n",
       "        [2, 1, 7, 4, 9, 7, 9, 5, 8, 6],\n",
       "        [5, 9, 9, 6, 5, 5, 5, 9, 1, 2],\n",
       "        [6, 1, 1, 5, 9, 7, 4, 3, 8, 4],\n",
       "        [2, 3, 2, 0, 3, 6, 9, 8, 1, 1],\n",
       "        [7, 0, 6, 4, 5, 0, 1, 2, 9, 2],\n",
       "        [1, 7, 0, 3, 8, 5, 7, 2, 1, 6],\n",
       "        [7, 6, 8, 9, 9, 2, 1, 4, 5, 5],\n",
       "        [7, 5, 2, 3, 8, 1, 1, 9, 0, 6],\n",
       "        [7, 4, 0, 5, 3, 3, 7, 7, 9, 4]])"
      ]
     },
     "execution_count": 83,
     "metadata": {},
     "output_type": "execute_result"
    }
   ],
   "source": [
    "d = np.random.randint(10,size=(10,10))\n",
    "m = np.matrix(d)\n",
    "m"
   ]
  },
  {
   "cell_type": "markdown",
   "metadata": {},
   "source": [
    "#### 7. Создайте данную матрицу без прямого ввода.\n",
    "\n",
    "```\n",
    "[[5, 5, 5, 5, 5],\n",
    " [5, 5, 5, 5, 5],\n",
    " [5, 5, 5, 5, 5]]\n",
    "```\n",
    "\n"
   ]
  },
  {
   "cell_type": "code",
   "execution_count": 60,
   "metadata": {},
   "outputs": [
    {
     "data": {
      "text/plain": [
       "matrix([[5, 5, 5, 5, 5],\n",
       "        [5, 5, 5, 5, 5],\n",
       "        [5, 5, 5, 5, 5]])"
      ]
     },
     "execution_count": 60,
     "metadata": {},
     "output_type": "execute_result"
    }
   ],
   "source": [
    "e = np.arange(15).reshape(3,5)*0+5\n",
    "m = np.matrix(e)\n",
    "m"
   ]
  },
  {
   "cell_type": "markdown",
   "metadata": {},
   "source": [
    "#### 8. Сложите два вектора поэлементно и вычислите квадрат каждого элемента.\n",
    "\n",
    "```\n",
    "arrayOne = numpy.array([[5, 6, 9], [21 ,18, 27]])\n",
    "arrayTwo = numpy.array([[15 ,33, 24], [4 ,7, 1]])\n",
    "\n",
    "Результат\n",
    "\n",
    "[[ 400 1521 1089]\n",
    " [ 625  625  784]]\n",
    "```\n"
   ]
  },
  {
   "cell_type": "code",
   "execution_count": 62,
   "metadata": {},
   "outputs": [
    {
     "data": {
      "text/plain": [
       "matrix([[ 400, 1521, 1089],\n",
       "        [ 625,  625,  784]])"
      ]
     },
     "execution_count": 62,
     "metadata": {},
     "output_type": "execute_result"
    }
   ],
   "source": [
    "arrayOne = np.array([[5, 6, 9], [21 ,18, 27]])\n",
    "arrayTwo = np.array([[15 ,33, 24], [4 ,7, 1]])\n",
    "a = (arrayOne + arrayTwo)**2\n",
    "m = np.matrix(a)\n",
    "m"
   ]
  },
  {
   "cell_type": "markdown",
   "metadata": {},
   "source": [
    "#### 9. Дана матрица. Найдите среднее значение каждой строки.\n",
    "```\n",
    "[[ 400, 1521, 1089]\n",
    " [ 625,  625,  784]]\n",
    "```"
   ]
  },
  {
   "cell_type": "code",
   "execution_count": 42,
   "metadata": {},
   "outputs": [
    {
     "data": {
      "text/plain": [
       "840.6666666666666"
      ]
     },
     "execution_count": 42,
     "metadata": {},
     "output_type": "execute_result"
    }
   ],
   "source": [
    "a = np.array([[ 400, 1521, 1089],[ 625,  625,  784]])\n",
    "np.mean(a)"
   ]
  },
  {
   "cell_type": "markdown",
   "metadata": {},
   "source": [
    "#### 10. Дана матрица. Используя срезы получите выделенные элементы.\n",
    "```\n",
    "      [[ 0,  1,  2,  3,  4,  5],\n",
    "       [10, 11, 12, 13, 14, 15],\n",
    "       [20, 21, 22, 23, 24, 25],\n",
    "       [30, 31, 32, 33, 34, 35],\n",
    "       [40, 41, 42, 43, 44, 45],\n",
    "       [50, 51, 52, 53, 54, 55]]\n",
    "```"
   ]
  },
  {
   "attachments": {
    "image.png": {
     "image/png": "[encoded data removed]"
    }
   },
   "cell_type": "markdown",
   "metadata": {},
   "source": [
    "![image.png](attachment:image.png)"
   ]
  },
  {
   "cell_type": "code",
   "execution_count": 64,
   "metadata": {},
   "outputs": [
    {
     "data": {
      "text/plain": [
       "(2,\n",
       " 22,\n",
       " 52,\n",
       " matrix([[30],\n",
       "         [40],\n",
       "         [50]]),\n",
       " matrix([[32],\n",
       "         [42],\n",
       "         [52]]),\n",
       " matrix([[35],\n",
       "         [45],\n",
       "         [55]]),\n",
       " 1,\n",
       " 12,\n",
       " 23,\n",
       " 34,\n",
       " 45)"
      ]
     },
     "execution_count": 64,
     "metadata": {},
     "output_type": "execute_result"
    }
   ],
   "source": [
    "a = np.matrix([[ 0,  1,  2,  3,  4,  5],\n",
    "       [10, 11, 12, 13, 14, 15],\n",
    "       [20, 21, 22, 23, 24, 25],\n",
    "       [30, 31, 32, 33, 34, 35],\n",
    "       [40, 41, 42, 43, 44, 45],\n",
    "       [50, 51, 52, 53, 54, 55]])\n",
    "a[0,2], a[2,2], a[5,2], a[3:, 0], a[3:,2], a[3:,5], a[0,1], a[1,2], a[2,3], a[3,4], a[4,5]"
   ]
  },
  {
   "cell_type": "code",
   "execution_count": null,
   "metadata": {},
   "outputs": [],
   "source": []
  }
 ],
 "metadata": {
  "kernelspec": {
   "display_name": "Python 3 (ipykernel)",
   "language": "python",
   "name": "python3"
  },
  "language_info": {
   "codemirror_mode": {
    "name": "ipython",
    "version": 3
   },
   "file_extension": ".py",
   "mimetype": "text/x-python",
   "name": "python",
   "nbconvert_exporter": "python",
   "pygments_lexer": "ipython3",
   "version": "3.8.10"
  }
 },
 "nbformat": 4,
 "nbformat_minor": 4
}
